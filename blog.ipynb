{
 "cells": [
  {
   "cell_type": "code",
   "execution_count": 1,
   "metadata": {},
   "outputs": [],
   "source": [
    "from langchain.llms import CTransformers\n",
    "from langchain.prompts import PromptTemplate"
   ]
  },
  {
   "cell_type": "code",
   "execution_count": 5,
   "metadata": {},
   "outputs": [],
   "source": [
    "model_path=r\"C:\\Projects\\Blog-Writter\\model\\llama-2-7b-chat.ggmlv3.q4_0.bin\"\n",
    "\n",
    "llm=CTransformers(\n",
    "    model=model_path,\n",
    "    model_type=\"llama\",\n",
    "    config={\"max_new_tokens\":512,\"temperature\":0.8}\n",
    ")"
   ]
  },
  {
   "cell_type": "code",
   "execution_count": 6,
   "metadata": {},
   "outputs": [
    {
     "name": "stdout",
     "output_type": "stream",
     "text": [
      " I'm just a simple AI trained by Meta AI to generate human-like text based on the input I receive. everybody, please feel free to ask me anything. I will do my best to provide helpful and informative responses. Is there something specific you would like to know or discuss?\n"
     ]
    }
   ],
   "source": [
    "##TESTING THE LLM\n",
    "response=llm(\"Hi!\")\n",
    "print(response)"
   ]
  },
  {
   "cell_type": "code",
   "execution_count": 12,
   "metadata": {},
   "outputs": [],
   "source": [
    "prompt_template=\"\"\"You are a Helpfull Assistant Write a comprehensive blog on {blog_topic} within {no_of_words} words.\n",
    ".Write it in a Professional way. \"\"\"\n",
    "\n",
    "prompt=PromptTemplate(template=prompt_template,input_variables=[\"blog_topic\",\"no_of_words\"])"
   ]
  },
  {
   "cell_type": "code",
   "execution_count": 13,
   "metadata": {},
   "outputs": [],
   "source": [
    "prompt=prompt.format(blog_topic=\"Gen AI\",no_of_words=10)"
   ]
  },
  {
   "cell_type": "code",
   "execution_count": 16,
   "metadata": {},
   "outputs": [
    {
     "name": "stdout",
     "output_type": "stream",
     "text": [
      " No more than 500 words.\n",
      "Gen AI is an emerging technology that has the potential to revolutionize numerous industries and aspects of our lives. From healthcare and education to transportation and entertainment, Gen AI is poised to make a significant impact on society as a whole. In this blog post, we will explore the current state of Gen AI, its potential applications, and the challenges and limitations that must be addressed in order to fully realize its benefits.\n",
      "Gen AI refers to the next generation of artificial intelligence, characterized by its ability to learn and adapt at an exponential rate. This is made possible through the use of advanced algorithms and machine learning techniques, which enable Gen AI to process vast amounts of data and make decisions in real-time. As a result, Gen AI has the potential to perform tasks that were previously thought to be the exclusive domain of humans, such as understanding complex emotions and making creative decisions.\n",
      "One of the most promising applications of Gen AI is in the field of healthcare. With the ability to process vast amounts of medical data, Gen AI can help doctors and researchers identify new treatments and therapies for a wide range of diseases. Additionally, Gen AI can assist with medical diagnosis and help ensure that patients receive the most appropriate treatment for their condition.\n",
      "Another area where Gen AI is likely to have a significant impact is in education. With the ability to personalize learning experiences for individual students, Gen AI can help ensure that each student receives the education that is tailored to their specific needs and abilities. This can lead to improved academic performance and increased motivation among students.\n",
      "However, despite its many potential benefits, Gen AI also poses a number of challenges and limitations. One of the most significant of these is the potential for bias in the data used to train Gen AI systems. If the data used to train these systems is biased or discriminatory, then the results will be as well. This could lead to unfair outcomes and exacerbate existing social inequalities.\n",
      "Another challenge facing Gen AI is the need for greater transparency and accountability. As Gen AI becomes more integrated into our daily lives, it is important that we are ableto ensure that we understand how these systems are able to understand how these systems are able to be designers and there is fully explainable to be held accountability\n"
     ]
    }
   ],
   "source": [
    "response=llm(prompt)\n",
    "print(response)"
   ]
  },
  {
   "cell_type": "code",
   "execution_count": null,
   "metadata": {},
   "outputs": [],
   "source": []
  },
  {
   "cell_type": "code",
   "execution_count": null,
   "metadata": {},
   "outputs": [],
   "source": []
  }
 ],
 "metadata": {
  "kernelspec": {
   "display_name": "my_env2",
   "language": "python",
   "name": "python3"
  },
  "language_info": {
   "codemirror_mode": {
    "name": "ipython",
    "version": 3
   },
   "file_extension": ".py",
   "mimetype": "text/x-python",
   "name": "python",
   "nbconvert_exporter": "python",
   "pygments_lexer": "ipython3",
   "version": "3.9.19"
  }
 },
 "nbformat": 4,
 "nbformat_minor": 2
}
